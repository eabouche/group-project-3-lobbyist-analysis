{
 "cells": [
  {
   "cell_type": "code",
   "execution_count": null,
   "id": "d1edbab7",
   "metadata": {},
   "outputs": [],
   "source": [
    "# Import Main Dependencies\n",
    "import pandas as pd\n",
    "import json\n",
    "import requests\n",
    "from pprint import pprint\n",
    "import datetime as dt\n",
    "import matplotlib.pyplot as plt\n",
    "#import scipy.stats as st\n",
    "\n",
    "# Import credentials string for PostgreSQL database access\n",
    "from config import credentials\n",
    "\n",
    "# Library and methods to connect and interact with database\n",
    "import sqlalchemy\n",
    "from sqlalchemy import create_engine\n",
    "from sqlalchemy.orm import Session\n",
    "from sqlalchemy.orm import sessionmaker\n",
    "\n",
    "#import geoapify api key\n",
    "#from config_api import geoapify_api_key\n"
   ]
  },
  {
   "cell_type": "markdown",
   "id": "cd5e4158",
   "metadata": {},
   "source": [
    "# Getting Lobbyist Data using API calls"
   ]
  },
  {
   "cell_type": "code",
   "execution_count": null,
   "id": "c30fdb06",
   "metadata": {},
   "outputs": [],
   "source": [
    "# API Call 1: Get full dataset\n",
    "\n",
    "# save endpoint url - all records\n",
    "url_two = 'https://data.cityofchicago.org/resource/p9p7-vfqc.json?$limit=10000'\n",
    "\n",
    "# save endpoint response in json format\n",
    "api_full_response_two = requests.get(url_two).json()"
   ]
  },
  {
   "cell_type": "code",
   "execution_count": null,
   "id": "e28a1be7",
   "metadata": {},
   "outputs": [],
   "source": [
    "# API Call 1 - Contribution table: loop and store response\n",
    "\n",
    "# Creating empty list to store response\n",
    "lobbyist_combo_list_two = []\n",
    "\n",
    "#looping through all api response to extract fields \n",
    "for lobbyist_record in api_full_response_two:\n",
    "    \n",
    "    #try/except logic to avoid errors\n",
    "    try:\n",
    "        contribution_id = lobbyist_record['contribution_id']\n",
    "        period_start = lobbyist_record['period_start']\n",
    "        period_end = lobbyist_record['period_end']\n",
    "        contribution_date = lobbyist_record['contribution_date']\n",
    "        recipient = lobbyist_record['recipient']\n",
    "        amount = lobbyist_record['amount']\n",
    "        lobbyist_id = lobbyist_record['lobbyist_id']\n",
    "        lobbyist_first_name = lobbyist_record['lobbyist_first_name']\n",
    "        lobbyist_last_name = lobbyist_record['lobbyist_last_name']\n",
    "        created_date = lobbyist_record['created_date']\n",
    "        \n",
    "        lobbyist_combo_list_two.append({\"contribution_id\" : contribution_id,\n",
    "                        \"period_start\" : period_start,\n",
    "                        \"period_end\": period_end,\n",
    "                        \"contribution_date\" : contribution_date,\n",
    "                        \"recipient\" : recipient,      \n",
    "                        \"amount\" : amount,\n",
    "                        \"lobbyist_id\" : lobbyist_id,      \n",
    "                        \"lobbyist_first_name\" : lobbyist_first_name,\n",
    "                        \"lobbyist_last_name\": lobbyist_last_name,\n",
    "                        \"created_date\" : created_date,\n",
    "                       \n",
    "                        })\n",
    "    \n",
    "    except:\n",
    "        print(f'found empty data for lobbyist name {lobbyist_last_name}')\n",
    "        pass\n",
    "        \n",
    "    \n",
    "    #print(lobbyist_last_name)\n",
    "    \n",
    "    # adding extracted data into python list \n",
    "\n",
    "    \n",
    "print(\"Data Retrieval Complete\")"
   ]
  },
  {
   "cell_type": "code",
   "execution_count": null,
   "id": "c51927c8",
   "metadata": {},
   "outputs": [],
   "source": [
    "# API Call 2 - Compensation table: Get full dataset\n",
    "\n",
    "# save endpoint url - all records\n",
    "url = 'https://data.cityofchicago.org/resource/dw2f-w78u.json?$limit=30000'\n",
    "\n",
    "# save endpoint response in json format\n",
    "api_full_response = requests.get(url).json()\n",
    "\n",
    "# pprint(json.dumps(api_full_response, indent=4, sort_keys=True))\n"
   ]
  },
  {
   "cell_type": "code",
   "execution_count": null,
   "id": "a7fb12e1",
   "metadata": {},
   "outputs": [],
   "source": [
    "# API Call 2: loop and store response\n",
    "\n",
    "# Creating empty list to store response\n",
    "compensation_list = []\n",
    "\n",
    "err_num = 0\n",
    "\n",
    "#looping through all api data to extract fields\n",
    "for compensation_record in api_full_response:\n",
    "   \n",
    "    #try/except logic to avoid errors\n",
    "    try:\n",
    "        client_id = compensation_record['client_id']\n",
    "        client_name = compensation_record['client_name']\n",
    "        compensation_amount = compensation_record['compensation_amount']\n",
    "        compensation_id = compensation_record['compensation_id']\n",
    "        lobbyist_first_name = compensation_record['lobbyist_first_name']\n",
    "        lobbyist_id = compensation_record['lobbyist_id']\n",
    "        lobbyist_last_name = compensation_record['lobbyist_last_name']\n",
    "        lobbyist_middle_initial = compensation_record['lobbyist_middle_initial']\n",
    "        period_end = compensation_record['period_end']\n",
    "        period_start = compensation_record['period_start']\n",
    "        \n",
    "           \n",
    "    # adding extracted data into python list\n",
    "        compensation_list.append({\"client_id\" : client_id,\n",
    "                        \"client_name\" : client_name,\n",
    "                        \"compensation_amount\": compensation_amount,\n",
    "                        \"compensation_id\" : compensation_id,\n",
    "                        \"lobbyist_first_name\" : lobbyist_first_name,\n",
    "                        \"lobbyist_id\" : lobbyist_id,\n",
    "                        \"lobbyist_last_name\": lobbyist_last_name,\n",
    "                        \"lobbyist_middle_initial\" : lobbyist_middle_initial,\n",
    "                        \"period_end\" : period_end,\n",
    "                        \"period_start\" : period_start,\n",
    "                        })\n",
    "       \n",
    "    except:\n",
    "        # print(f'found empty data for compensation ID {compensation_id}')\n",
    "        err_num = err_num + 1\n",
    "        pass\n",
    "\n",
    "   \n",
    "print(f\"Data Retrieval Complete. {err_num} records had some missing data\")\n"
   ]
  },
  {
   "cell_type": "code",
   "execution_count": null,
   "id": "87dfb177",
   "metadata": {},
   "outputs": [],
   "source": [
    "# API Call 3: Get full dataset\n",
    "\n",
    "# save endpoint url - all records\n",
    "url = 'https://data.cityofchicago.org/resource/tq3e-t5yq.json?$limit=15000'\n",
    "\n",
    "# save endpoint response in json format\n",
    "api_packed_response = requests.get(url).json()\n"
   ]
  },
  {
   "cell_type": "code",
   "execution_count": null,
   "id": "fcfe059a",
   "metadata": {},
   "outputs": [],
   "source": [
    "# API Call 3 - Lobbyist table: loop and store response\n",
    "\n",
    "# Creating empty list to store response\n",
    "lobby_record_list = []\n",
    "\n",
    "# looping through all api data to extract fields\n",
    "for lobby_record in api_packed_response:\n",
    "    \n",
    "    #try/except logic to avoid errors\n",
    "    try:\n",
    "        address_1 = lobby_record['address_1']\n",
    "        city = lobby_record['city']\n",
    "        country = lobby_record['country']\n",
    "        created_date = lobby_record['created_date']\n",
    "        email = lobby_record['email']\n",
    "        employer_id = lobby_record['employer_id']\n",
    "        employer_name = lobby_record['employer_name']\n",
    "        fax = lobby_record['fax']\n",
    "        first_name = lobby_record['first_name']\n",
    "        last_name = lobby_record['last_name']\n",
    "        lobbyist_id = lobby_record['lobbyist_id']\n",
    "        phone = lobby_record['phone']\n",
    "        salutation = lobby_record['salutation']\n",
    "        state =  lobby_record['state']\n",
    "        year = lobby_record['year']\n",
    "        zip = lobby_record['zip']\n",
    "        \n",
    "            # adding extracted data into python list\n",
    "        lobby_record_list.append({\"address_1\" : address_1,\n",
    "                              \"city\" : city,\n",
    "                              \"country\" : country,\n",
    "                              \"created_date\" : created_date,\n",
    "                              \"email\" : email,\n",
    "                              \"employer_id\" : employer_id,\n",
    "                              \"employer_name\" : employer_name,\n",
    "                              \"fax\" : fax,\n",
    "                              \"first_name\" : first_name,\n",
    "                              \"last_name\":  last_name,\n",
    "                              \"lobbyist_id\" : lobbyist_id,\n",
    "                              \"phone\": phone,\n",
    "                              \"salutation\": salutation,\n",
    "                              \"state\": state,\n",
    "                              \"year\" : year,\n",
    "                              \"zip\" : zip                        \n",
    "                            })\n",
    "                       \n",
    "    except:\n",
    "        #print(f'found empty data for lobbyist name {last_name}')\n",
    "        pass\n",
    "        \n",
    "\n",
    "\n",
    "print(\"Data Retrieval Complete\")\n",
    "\n",
    "# inspect counts\n",
    "# convert numeric types to int\n",
    "# verify data types were converted to int"
   ]
  },
  {
   "cell_type": "markdown",
   "id": "d1e8e971",
   "metadata": {},
   "source": [
    "# Creating Dataframes for all Lobbyist datasets"
   ]
  },
  {
   "cell_type": "markdown",
   "id": "f216460d",
   "metadata": {},
   "source": [
    "## Lobbyists Dataframe"
   ]
  },
  {
   "cell_type": "code",
   "execution_count": null,
   "id": "b8d36b33",
   "metadata": {},
   "outputs": [],
   "source": [
    "# create Lobbyist dataframe \n",
    "lobby_record_df = pd.DataFrame(lobby_record_list)\n",
    "lobby_record_df.head()"
   ]
  },
  {
   "cell_type": "code",
   "execution_count": null,
   "id": "03ba18da",
   "metadata": {},
   "outputs": [],
   "source": [
    "# inspect counts to ensure all records retrieved (the limit in API Call must be higher than returned count here)\n",
    "lobby_record_df.info()\n",
    "# Daniel, notice the count is 5000 here.  API Limit needs to be increased. "
   ]
  },
  {
   "cell_type": "code",
   "execution_count": null,
   "id": "d6a32d64",
   "metadata": {},
   "outputs": [],
   "source": [
    "# convert numeric types to int\n",
    "\n",
    "lobby_record_df['year'] = lobby_record_df['year'].astype('int')\n",
    "lobby_record_df['employer_id'] = lobby_record_df['employer_id'].astype('int64')\n",
    "lobby_record_df['lobbyist_id'] = lobby_record_df['lobbyist_id'].astype('int')\n",
    "\n",
    "# perform Dataframe date formatting (if necessary)"
   ]
  },
  {
   "cell_type": "code",
   "execution_count": null,
   "id": "e19e1b60",
   "metadata": {},
   "outputs": [],
   "source": [
    "# verify data types were converted to int\n",
    "lobby_record_df.dtypes"
   ]
  },
  {
   "cell_type": "code",
   "execution_count": null,
   "id": "d8c12117",
   "metadata": {},
   "outputs": [],
   "source": [
    "\n",
    "# drop unnecessary columns example\n",
    "#lobby_record_no_dups_df = lobby_record_reordered_df.drop('lobbyist_id', axis=1)\n",
    "#lobby_record_no_dups_df.head()\n",
    "#TESTING\n",
    "\n",
    "# for i in lobby_record_list:\n",
    "#     print(i['address_1'])\n",
    "    \n",
    "# for x in lobby_record_df:\n",
    "#     print(x)\n",
    "\n",
    "lobby_record_df"
   ]
  },
  {
   "cell_type": "code",
   "execution_count": null,
   "id": "d4f9ef55",
   "metadata": {},
   "outputs": [],
   "source": [
    "# Find duplicate IDs\n",
    "#print(lobby_record_df.count())\n",
    "\n",
    "#lobby_record_df['lobbyist_id'].duplicated()\n",
    "lobby_record_df['lobbyist_id'].duplicated().sum()\n",
    "\n",
    "# drop duplicate ids"
   ]
  },
  {
   "cell_type": "markdown",
   "id": "f7da85f1",
   "metadata": {},
   "source": [
    "## Contributions Dataframe"
   ]
  },
  {
   "cell_type": "code",
   "execution_count": null,
   "id": "f759f0f7",
   "metadata": {},
   "outputs": [],
   "source": [
    "# Create this dataset dataframe \n",
    "lobbyist_combo_df_two = pd.DataFrame(lobbyist_combo_list_two)\n",
    "lobbyist_combo_df_two['period_end'] = pd.to_datetime(lobbyist_combo_df_two['period_end'])\n",
    "lobbyist_combo_df_two['period_start'] = pd.to_datetime(lobbyist_combo_df_two['period_start'])\n",
    "lobbyist_combo_df_two['contribution_date'] = pd.to_datetime(lobbyist_combo_df_two['contribution_date'],errors = \"coerce\")\n",
    "lobbyist_combo_df_two['period_end']=lobbyist_combo_df_two['period_end'].dt.strftime('%m/%d/%y')\n",
    "lobbyist_combo_df_two['period_start'] = lobbyist_combo_df_two['period_start'].dt.strftime('%m/%d/%y')\n",
    "lobbyist_combo_df_two['contribution_date'] = lobbyist_combo_df_two['contribution_date'].dt.strftime('%m/%d/%y')\n",
    "lobbyist_combo_df_two.head()"
   ]
  },
  {
   "cell_type": "code",
   "execution_count": null,
   "id": "badad720",
   "metadata": {},
   "outputs": [],
   "source": [
    "lobbyist_combo_df_two['contribution_date'].isna().sum()"
   ]
  },
  {
   "cell_type": "code",
   "execution_count": null,
   "id": "220e6d14",
   "metadata": {},
   "outputs": [],
   "source": [
    "# inspect data types\n",
    "lobbyist_combo_df_two.info()"
   ]
  },
  {
   "cell_type": "code",
   "execution_count": null,
   "id": "c81bd212",
   "metadata": {},
   "outputs": [],
   "source": [
    "# inspect counts\n",
    "lobbyist_combo_df_two.count()"
   ]
  },
  {
   "cell_type": "code",
   "execution_count": null,
   "id": "e308d762",
   "metadata": {},
   "outputs": [],
   "source": [
    "# inspect counts to ensure all records are retrieved (the limit in API Call must be higher than returned count here)\n",
    "lobbyist_combo_df_two.count()\n"
   ]
  },
  {
   "cell_type": "code",
   "execution_count": null,
   "id": "ead2a966",
   "metadata": {},
   "outputs": [],
   "source": [
    "#  Which \"Lobbyist\" is receiving the most lobbying funds?\n",
    "lobbyist_combo_df_two['lobbyist_id'] = lobbyist_combo_df_two['lobbyist_id'].astype(int)\n",
    "lobbyist_combo_df_two['amount'] = lobbyist_combo_df_two['amount'].astype(float)\n",
    "most_funds_received_lobbyist = lobbyist_combo_df_two.groupby([\"lobbyist_last_name\"])[\"amount\"].sum()\n",
    "lobbyist_high = most_funds_received_lobbyist.sort_values(ascending=False)\n",
    "lobbyist_high =lobbyist_high.head(30)\n"
   ]
  },
  {
   "cell_type": "code",
   "execution_count": null,
   "id": "441101b7",
   "metadata": {},
   "outputs": [],
   "source": [
    "# inspect Contributions dataframe data types\n",
    "lobbyist_combo_df_two.info()"
   ]
  },
  {
   "cell_type": "code",
   "execution_count": 74,
   "id": "3b5b545c",
   "metadata": {},
   "outputs": [
    {
     "data": {
      "text/plain": [
       "Text(0, 0.5, 'lobbyist_high')"
      ]
     },
     "execution_count": 74,
     "metadata": {},
     "output_type": "execute_result"
    },
    {
     "data": {
      "image/png": "[encoded data removed]",
      "text/plain": [
       "<Figure size 1080x720 with 1 Axes>"
      ]
     },
     "metadata": {
      "needs_background": "light"
     },
     "output_type": "display_data"
    }
   ],
   "source": [
    "# Bar Plot (Using Pandas): lobbyist Vs amount\n",
    "plot_pandas = lobbyist_high.plot.bar(figsize = (15,10), color = 'g', fontsize = 12)\n",
    "plt.ylabel(\"lobbyist_high\", fontsize =11)"
   ]
  },
  {
   "cell_type": "code",
   "execution_count": null,
   "id": "f725ea63",
   "metadata": {},
   "outputs": [],
   "source": [
    "#  Which \"recipient\" is receiving the most lobbying funds in descending order\n",
    "lobbyist_combo_df_two['amount'] = lobbyist_combo_df_two['amount'].astype(float)\n",
    "most_funds_received_recipient = lobbyist_combo_df_two.groupby([\"recipient\"])[\"amount\"].sum()\n",
    "recipient_high = most_funds_received_recipient.sort_values(ascending=False)\n",
    "recipient_high =recipient_high.head(30)"
   ]
  },
  {
   "cell_type": "code",
   "execution_count": 75,
   "id": "703e8ad8",
   "metadata": {},
   "outputs": [
    {
     "data": {
      "text/plain": [
       "Text(0, 0.5, 'recipient_high')"
      ]
     },
     "execution_count": 75,
     "metadata": {},
     "output_type": "execute_result"
    },
    {
     "data": {
      "image/png": "[encoded data removed]",
      "text/plain": [
       "<Figure size 1080x720 with 1 Axes>"
      ]
     },
     "metadata": {
      "needs_background": "light"
     },
     "output_type": "display_data"
    }
   ],
   "source": [
    "# Bar Plot (Using Pandas): recipient Vs amount\n",
    "plot_pandas = recipient_high.plot.bar(figsize = (15,10), color = 'g', fontsize = 12)\n",
    "plt.ylabel(\"recipient_high\", fontsize =11)"
   ]
  },
  {
   "cell_type": "code",
   "execution_count": null,
   "id": "9959d9a7",
   "metadata": {},
   "outputs": [],
   "source": [
    "# Convert dataframe to json\n",
    "lobbyist_combo_df_two.to_json('data/lobbyist_contribution_info.json',orient ='records')\n",
    "\n",
    "# Write DF to json\n",
    "\n",
    "# with open(\"data/compensation.json\", \"w\") as outfile:\n",
    "#     json.dump(compensation_df_to_json_dict, outfile)"
   ]
  },
  {
   "cell_type": "markdown",
   "id": "13672f5b",
   "metadata": {},
   "source": [
    "## Compensation Dataframe"
   ]
  },
  {
   "cell_type": "code",
   "execution_count": null,
   "id": "1f0987f2",
   "metadata": {},
   "outputs": [],
   "source": [
    "# Create compensation dataframe\n",
    "compensation_df = pd.DataFrame(compensation_list)\n",
    "compensation_df.head()"
   ]
  },
  {
   "cell_type": "code",
   "execution_count": null,
   "id": "87defe55",
   "metadata": {},
   "outputs": [],
   "source": [
    "# Compensation Dataframe date formatting\n",
    "compensation_df['period_end'] = pd.to_datetime(compensation_df['period_end'])\n",
    "compensation_df['period_start'] = pd.to_datetime(compensation_df['period_start'])\n",
    "\n",
    "compensation_df.head()"
   ]
  },
  {
   "cell_type": "code",
   "execution_count": null,
   "id": "23b6d787",
   "metadata": {},
   "outputs": [],
   "source": [
    "# reorder fields in dataframe\n",
    "compensation_df = compensation_df[['lobbyist_id', 'lobbyist_first_name','lobbyist_middle_initial','lobbyist_last_name',\n",
    "                                   'client_id','client_name','compensation_id','compensation_amount','period_start','period_end']]"
   ]
  },
  {
   "cell_type": "code",
   "execution_count": null,
   "id": "b4d81501",
   "metadata": {},
   "outputs": [],
   "source": [
    "# Compensation Dataframe Inspect counts\n",
    "compensation_df.count()"
   ]
  },
  {
   "cell_type": "code",
   "execution_count": null,
   "id": "419d1006",
   "metadata": {},
   "outputs": [],
   "source": [
    "# Compensation Dataframe Inspect datatypes\n",
    "compensation_df.info()"
   ]
  },
  {
   "cell_type": "code",
   "execution_count": null,
   "id": "db300771",
   "metadata": {},
   "outputs": [],
   "source": [
    "# Compensation Dataframe update datatypes\n",
    "compensation_df['compensation_amount'] = compensation_df['compensation_amount'].astype(float)"
   ]
  },
  {
   "cell_type": "markdown",
   "id": "9edc3d7c",
   "metadata": {},
   "source": [
    "# Connect and load datasets into PostgreSQL Database"
   ]
  },
  {
   "cell_type": "code",
   "execution_count": null,
   "id": "e4ae3e37",
   "metadata": {},
   "outputs": [],
   "source": [
    "# CONNECT TO POSTGRESQL DATABASE\n",
    "\n",
    "# create connection string for accessing PostgreSQL database\n",
    "conn_string = f\"postgresql://{credentials}@localhost:5432/lobbyist_db\"  "
   ]
  },
  {
   "cell_type": "code",
   "execution_count": null,
   "id": "33204b66",
   "metadata": {},
   "outputs": [],
   "source": [
    "# Create sqlalchemy engine using connection string\n",
    "engine = create_engine(conn_string)\n",
    "conn = engine.connect()"
   ]
  },
  {
   "cell_type": "code",
   "execution_count": null,
   "id": "4d0d5655",
   "metadata": {},
   "outputs": [],
   "source": [
    "# SAMPLE writing to file\n",
    "# with open(\"sample.json\", \"w\") as outfile:\n",
    "#     json.dump(bulk_insert_dict, outfile)"
   ]
  },
  {
   "cell_type": "code",
   "execution_count": null,
   "id": "8583410c",
   "metadata": {},
   "outputs": [],
   "source": [
    "# Connect to the lobbyist_employer_client_rel table\n",
    "table_name = 'lobbyist_employer_client_rel'\n",
    "table_name2 = 'contribution'\n",
    "table_name3 = 'compensation'\n",
    "table_name4 = 'lobbyists'\n",
    "\n",
    "metadata = sqlalchemy.schema.MetaData(bind=engine)\n",
    "\n",
    "table1 = sqlalchemy.Table(table_name, metadata, autoload=True)\n",
    "table2 = sqlalchemy.Table(table_name2, metadata, autoload=True)\n",
    "table3 = sqlalchemy.Table(table_name3, metadata, autoload=True)\n",
    "table4 = sqlalchemy.Table(table_name4, metadata, autoload=True)"
   ]
  },
  {
   "cell_type": "code",
   "execution_count": null,
   "id": "408972d3",
   "metadata": {},
   "outputs": [],
   "source": [
    "# start session\n",
    "Session = sessionmaker(bind=engine)"
   ]
  },
  {
   "cell_type": "code",
   "execution_count": null,
   "id": "a0aa4bd7",
   "metadata": {},
   "outputs": [],
   "source": [
    "#Table 1\n",
    "# Bulk Insert the dataframe into the database table\n",
    "\n",
    "with Session() as session:\n",
    "    lobbyist_combo_df_two.to_sql(table_name2, con=conn, if_exists='append', index=False)"
   ]
  },
  {
   "cell_type": "code",
   "execution_count": null,
   "id": "bde4cdd1",
   "metadata": {},
   "outputs": [],
   "source": [
    "#Table 2\n",
    "# Bulk Insert the dataframe into the database table\n",
    "\n",
    "with Session() as session:\n",
    "    compensation_df.to_sql(table_name3, con=conn, if_exists='append', index=False)"
   ]
  },
  {
   "cell_type": "code",
   "execution_count": null,
   "id": "0968fa2d",
   "metadata": {},
   "outputs": [],
   "source": [
    "#Table 3\n",
    "# Bulk Insert the dataframe into the database table\n",
    "\n",
    "with Session() as session:\n",
    "    lobby_record_df.to_sql(table_name4, con=conn, if_exists='append', index=False)"
   ]
  },
  {
   "cell_type": "code",
   "execution_count": null,
   "id": "f071e972",
   "metadata": {},
   "outputs": [],
   "source": [
    "# Commit the changes\n",
    "session.commit()\n",
    "\n",
    "# close session\n",
    "session.close()\n",
    "\n",
    "# close connection\n",
    "conn.close()"
   ]
  },
  {
   "cell_type": "markdown",
   "id": "0d2de3dc",
   "metadata": {},
   "source": [
    "# Questions to analyze\n"
   ]
  },
  {
   "attachments": {},
   "cell_type": "markdown",
   "id": "333b8a29",
   "metadata": {},
   "source": [
    "## Are there certain geographic concentrations of lobbyists? - Lobbyist table"
   ]
  },
  {
   "cell_type": "code",
   "execution_count": null,
   "id": "c950ef11",
   "metadata": {},
   "outputs": [],
   "source": [
    "# Reorder columns\n",
    "lobby_record_reordered_df = lobby_record_df[['lobbyist_id', 'employer_id', 'year', 'email', 'first_name', 'last_name', 'address_1', 'city',\n",
    "        'state', 'zip', 'country', 'phone', 'fax', 'employer_name']]\n",
    "lobby_record_reordered_df.head()"
   ]
  },
  {
   "cell_type": "code",
   "execution_count": null,
   "id": "68d34636",
   "metadata": {},
   "outputs": [],
   "source": [
    "# print raw dataframe lobby record count (with duplicates)\n",
    "print(lobby_record_reordered_df.count())"
   ]
  },
  {
   "cell_type": "code",
   "execution_count": null,
   "id": "d5416a56",
   "metadata": {},
   "outputs": [],
   "source": [
    "# Look only at lobbyist records since the year 2019\n",
    "lobby_record_filtered_df = lobby_record_reordered_df.loc[lobby_record_reordered_df[\"year\"] >= 2019]\n",
    "lobby_record_filtered_df.head()"
   ]
  },
  {
   "cell_type": "code",
   "execution_count": null,
   "id": "5c69c595",
   "metadata": {},
   "outputs": [],
   "source": [
    "lobby_record_filtered_df.count()"
   ]
  },
  {
   "cell_type": "code",
   "execution_count": null,
   "id": "284e4988",
   "metadata": {},
   "outputs": [],
   "source": [
    "# print duplication of lobbyist records\n",
    "\n",
    "# uncomment row below if want to see actual duplicates\n",
    "#lobby_record_filtered_df['lobbyist_id'].duplicated()\n",
    "print(f\"Number of ducplicated records found in dataframe: {lobby_record_filtered_df['lobbyist_id'].duplicated().sum()}.\")\n",
    "\n",
    "lobbyist_final_df = lobby_record_filtered_df.drop_duplicates(subset='lobbyist_id')\n",
    "lobbyist_final_df.count()"
   ]
  },
  {
   "cell_type": "code",
   "execution_count": null,
   "id": "6f695784",
   "metadata": {},
   "outputs": [],
   "source": [
    "lobbyist_final_df.head()"
   ]
  },
  {
   "cell_type": "code",
   "execution_count": null,
   "id": "a56508d1",
   "metadata": {},
   "outputs": [],
   "source": [
    "# Group on city and count the number of lobbyists found in that region\n",
    "\n",
    "df = lobbyist_final_df.groupby(lobbyist_final_df['city']) ['lobbyist_id'].count()\n",
    "\n",
    "sortedDF=df.sort_values(ascending=False)\n",
    "\n",
    "top_20_df = sortedDF.head(20)\n",
    "\n",
    "#top_20_df.plot(kind=\"bar\")\n",
    "\n",
    "#plt.title(\"Greatest concentration of Lobyists by city \")\n",
    "#plt.show()\n",
    "\n",
    "\n",
    "top_20_df.head(20)"
   ]
  },
  {
   "cell_type": "code",
   "execution_count": null,
   "id": "d9eba63e",
   "metadata": {},
   "outputs": [],
   "source": [
    "import time\n",
    "api_key = '&apiKey=bb91f4d4147f4742b8a772b098feea92'\n",
    "#api_key = geoapify_api_key\n",
    "#lobbyist_final_df = lobbyist_final_df.head(50)\n",
    "\n",
    "lobbyist_lat = []\n",
    "lobbyist_lon = [] \n",
    "set_count = 1\n",
    "record_count = 1\n",
    "\n",
    "for i in range(len(lobbyist_final_df)):\n",
    "#for i in range(0,10):\n",
    "\n",
    "    if (i % 100 == 0 and i >= 100):\n",
    "        set_count += 1\n",
    "        record_count = 0\n",
    "    \n",
    "    print(\"Processing Record %s of Set %s\" % (record_count, set_count))\n",
    "    record_count += 1\n",
    "    try:\n",
    "        address = f\"{lobbyist_final_df.iloc[i]['address_1']},{lobbyist_final_df.iloc[i]['city']},{lobbyist_final_df.iloc[i]['state']},{lobbyist_final_df.iloc[i]['zip']}\"\n",
    "        url = 'https://api.geoapify.com/v1/geocode/search?text=' + address + api_key\n",
    "        response = requests.get(url).json()\n",
    "        #time.sleep(1)\n",
    "        lobbyist_lat.append(response['features'][0]['geometry']['coordinates'][1])\n",
    "        lobbyist_lon.append(response['features'][0]['geometry']['coordinates'][0])\n",
    "    \n",
    "    except:\n",
    "        print(\"coords not found, skipping\")\n",
    "        lobbyist_lat.append(None)\n",
    "        lobbyist_lon.append(None)\n",
    "        pass\n",
    "\n",
    "    \n",
    "lobbyist_final_df[\"lat\"] = lobbyist_lat\n",
    "lobbyist_final_df[\"long\"] = lobbyist_lon\n",
    "\n",
    "len(lobbyist_lat)\n",
    "len(lobbyist_lon)"
   ]
  },
  {
   "cell_type": "code",
   "execution_count": null,
   "id": "733364db",
   "metadata": {},
   "outputs": [],
   "source": [
    "lobbyist_final_df"
   ]
  },
  {
   "attachments": {},
   "cell_type": "markdown",
   "id": "487a54d0",
   "metadata": {},
   "source": [
    "## Who are the most well compensated lobbyists and where are they located? - Compensation table"
   ]
  },
  {
   "cell_type": "code",
   "execution_count": null,
   "id": "e41ff299",
   "metadata": {},
   "outputs": [],
   "source": [
    "compensation_df.info()"
   ]
  },
  {
   "cell_type": "code",
   "execution_count": null,
   "id": "74cd5100",
   "metadata": {},
   "outputs": [],
   "source": [
    "# Filter compensation dataframe down to the last 5 years and cleaning up where the same individual was listed under two different names\n",
    "\n",
    "compensation_df.head()\n",
    "\n",
    "compensation_5y_df = compensation_df[compensation_df['period_start'].dt.year >= 2019]\n",
    "\n",
    "conditions = (compensation_5y_df['lobbyist_id'] == '4007') & (compensation_5y_df['lobbyist_last_name'] == 'KELLY, JR.')\n",
    "\n",
    "compensation_5y_df.loc[conditions, 'lobbyist_last_name'] = 'KELLY'\n",
    "compensation_5y_df['lobbyist_id'] = compensation_5y_df['lobbyist_id'].astype('int64')\n",
    "#compensation_5y_df['compensation_amount'] = compensation_5y_df['compensation_amount'].astype('float')\n",
    "compensation_5y_df.count()"
   ]
  },
  {
   "cell_type": "code",
   "execution_count": null,
   "id": "24e8d8b6",
   "metadata": {},
   "outputs": [],
   "source": [
    "# Merging the above with the lobbyist table for location information\n",
    "\n",
    "compensation_5y_df = pd.merge(compensation_5y_df, lobbyist_final_df, on=['lobbyist_id'])"
   ]
  },
  {
   "cell_type": "code",
   "execution_count": null,
   "id": "e5660558",
   "metadata": {},
   "outputs": [],
   "source": [
    "# drop unnecessary columns\n",
    "compensation_5y_df = compensation_5y_df.drop(['phone','fax'], axis=1)"
   ]
  },
  {
   "cell_type": "code",
   "execution_count": null,
   "id": "1ac3fc9b",
   "metadata": {},
   "outputs": [],
   "source": [
    "# grouping by lobbyist_id \n",
    "\n",
    "compensation_lobbyist_grouped = compensation_5y_df.groupby(['lobbyist_id','lobbyist_first_name','lobbyist_middle_initial','lobbyist_last_name','address_1','city','state','zip','lat','long'])\n",
    "\n",
    "print(compensation_5y_df.columns.tolist())"
   ]
  },
  {
   "cell_type": "code",
   "execution_count": 78,
   "id": "796afb3b",
   "metadata": {},
   "outputs": [
    {
     "data": {
      "text/html": [
       "<div>\n",
       "<style scoped>\n",
       "    .dataframe tbody tr th:only-of-type {\n",
       "        vertical-align: middle;\n",
       "    }\n",
       "\n",
       "    .dataframe tbody tr th {\n",
       "        vertical-align: top;\n",
       "    }\n",
       "\n",
       "    .dataframe thead th {\n",
       "        text-align: right;\n",
       "    }\n",
       "</style>\n",
       "<table border=\"1\" class=\"dataframe\">\n",
       "  <thead>\n",
       "    <tr style=\"text-align: right;\">\n",
       "      <th></th>\n",
       "      <th>lobbyist_id</th>\n",
       "      <th>lobbyist_first_name</th>\n",
       "      <th>lobbyist_middle_initial</th>\n",
       "      <th>lobbyist_last_name</th>\n",
       "      <th>address_1</th>\n",
       "      <th>city</th>\n",
       "      <th>state</th>\n",
       "      <th>zip</th>\n",
       "      <th>lat</th>\n",
       "      <th>long</th>\n",
       "      <th>compensation_amount</th>\n",
       "    </tr>\n",
       "  </thead>\n",
       "  <tbody>\n",
       "    <tr>\n",
       "      <th>0</th>\n",
       "      <td>4007</td>\n",
       "      <td>JOHN</td>\n",
       "      <td>J</td>\n",
       "      <td>KELLY</td>\n",
       "      <td>616 ENTERPRISE DRIVE</td>\n",
       "      <td>OAK BROOK</td>\n",
       "      <td>IL</td>\n",
       "      <td>60523</td>\n",
       "      <td>41.847973</td>\n",
       "      <td>-87.938957</td>\n",
       "      <td>5701334.00</td>\n",
       "    </tr>\n",
       "    <tr>\n",
       "      <th>1</th>\n",
       "      <td>4193</td>\n",
       "      <td>JOHN</td>\n",
       "      <td>F</td>\n",
       "      <td>DUNN</td>\n",
       "      <td>77 W. WACKER, STE. 4100</td>\n",
       "      <td>CHICAGO</td>\n",
       "      <td>IL</td>\n",
       "      <td>60601</td>\n",
       "      <td>41.886511</td>\n",
       "      <td>-87.630536</td>\n",
       "      <td>4819541.00</td>\n",
       "    </tr>\n",
       "    <tr>\n",
       "      <th>2</th>\n",
       "      <td>18181</td>\n",
       "      <td>JOHN</td>\n",
       "      <td>R</td>\n",
       "      <td>DALEY</td>\n",
       "      <td>328 SOUTH JEFFERSON STREET</td>\n",
       "      <td>CHICAGO</td>\n",
       "      <td>IL</td>\n",
       "      <td>60661</td>\n",
       "      <td>41.877584</td>\n",
       "      <td>-87.642633</td>\n",
       "      <td>1614484.00</td>\n",
       "    </tr>\n",
       "    <tr>\n",
       "      <th>3</th>\n",
       "      <td>5861</td>\n",
       "      <td>THOMAS</td>\n",
       "      <td>S</td>\n",
       "      <td>MOORE</td>\n",
       "      <td>111 W WASHINGTON</td>\n",
       "      <td>CHICAGO</td>\n",
       "      <td>IL</td>\n",
       "      <td>60602</td>\n",
       "      <td>41.882883</td>\n",
       "      <td>-87.631404</td>\n",
       "      <td>1522152.00</td>\n",
       "    </tr>\n",
       "    <tr>\n",
       "      <th>4</th>\n",
       "      <td>3833</td>\n",
       "      <td>PAUL</td>\n",
       "      <td>W</td>\n",
       "      <td>SHADLE</td>\n",
       "      <td>444 W. LAKE STREET</td>\n",
       "      <td>CHICAGO</td>\n",
       "      <td>IL</td>\n",
       "      <td>60606</td>\n",
       "      <td>41.885801</td>\n",
       "      <td>-87.639442</td>\n",
       "      <td>1204000.00</td>\n",
       "    </tr>\n",
       "    <tr>\n",
       "      <th>5</th>\n",
       "      <td>4068</td>\n",
       "      <td>DONNA</td>\n",
       "      <td>J</td>\n",
       "      <td>PUGH</td>\n",
       "      <td>321 N. CLARK ST., STE. 2800</td>\n",
       "      <td>CHICAGO</td>\n",
       "      <td>IL</td>\n",
       "      <td>60654</td>\n",
       "      <td>41.888128</td>\n",
       "      <td>-87.630926</td>\n",
       "      <td>883436.00</td>\n",
       "    </tr>\n",
       "    <tr>\n",
       "      <th>6</th>\n",
       "      <td>5964</td>\n",
       "      <td>JEFFREY</td>\n",
       "      <td>A</td>\n",
       "      <td>GLASS</td>\n",
       "      <td>123 EAST OGDEN AVENUE</td>\n",
       "      <td>HINSDALE</td>\n",
       "      <td>IL</td>\n",
       "      <td>60521</td>\n",
       "      <td>41.814962</td>\n",
       "      <td>-87.928654</td>\n",
       "      <td>820000.00</td>\n",
       "    </tr>\n",
       "    <tr>\n",
       "      <th>7</th>\n",
       "      <td>4081</td>\n",
       "      <td>VICTOR</td>\n",
       "      <td>H</td>\n",
       "      <td>REYES</td>\n",
       "      <td>328 SOUTH JEFFERSON STREET</td>\n",
       "      <td>CHICAGO</td>\n",
       "      <td>IL</td>\n",
       "      <td>60661</td>\n",
       "      <td>41.877584</td>\n",
       "      <td>-87.642633</td>\n",
       "      <td>813375.00</td>\n",
       "    </tr>\n",
       "    <tr>\n",
       "      <th>8</th>\n",
       "      <td>3753</td>\n",
       "      <td>LANGDON</td>\n",
       "      <td>D</td>\n",
       "      <td>NEAL</td>\n",
       "      <td>20 S. CLARK STREET</td>\n",
       "      <td>CHICAGO</td>\n",
       "      <td>IL</td>\n",
       "      <td>60603</td>\n",
       "      <td>41.881163</td>\n",
       "      <td>-87.630983</td>\n",
       "      <td>721800.00</td>\n",
       "    </tr>\n",
       "    <tr>\n",
       "      <th>9</th>\n",
       "      <td>4162</td>\n",
       "      <td>MARY</td>\n",
       "      <td>K</td>\n",
       "      <td>MINAGHAN DBA MKM SERVICES</td>\n",
       "      <td>308 CIRCLE AVENUE</td>\n",
       "      <td>FOREST PARK</td>\n",
       "      <td>IL</td>\n",
       "      <td>60130</td>\n",
       "      <td>41.881149</td>\n",
       "      <td>-87.808852</td>\n",
       "      <td>688437.50</td>\n",
       "    </tr>\n",
       "    <tr>\n",
       "      <th>10</th>\n",
       "      <td>14081</td>\n",
       "      <td>MICHAEL</td>\n",
       "      <td>D</td>\n",
       "      <td>NOONAN</td>\n",
       "      <td>321 N CLARK ST</td>\n",
       "      <td>CHICAGO</td>\n",
       "      <td>IL</td>\n",
       "      <td>60654</td>\n",
       "      <td>41.888128</td>\n",
       "      <td>-87.630926</td>\n",
       "      <td>665674.00</td>\n",
       "    </tr>\n",
       "    <tr>\n",
       "      <th>11</th>\n",
       "      <td>3744</td>\n",
       "      <td>TIMOTHY</td>\n",
       "      <td>J</td>\n",
       "      <td>DART</td>\n",
       "      <td>121 W. WACKER DRIVE, SUITE 1108</td>\n",
       "      <td>CHICAGO</td>\n",
       "      <td>IL</td>\n",
       "      <td>60601</td>\n",
       "      <td>41.886806</td>\n",
       "      <td>-87.631716</td>\n",
       "      <td>585250.00</td>\n",
       "    </tr>\n",
       "    <tr>\n",
       "      <th>12</th>\n",
       "      <td>3847</td>\n",
       "      <td>GRAHAM</td>\n",
       "      <td>C</td>\n",
       "      <td>GRADY</td>\n",
       "      <td>111 EAST WACKER DRIVE</td>\n",
       "      <td>CHICAGO</td>\n",
       "      <td>IL</td>\n",
       "      <td>60601</td>\n",
       "      <td>41.887743</td>\n",
       "      <td>-87.623602</td>\n",
       "      <td>546850.00</td>\n",
       "    </tr>\n",
       "    <tr>\n",
       "      <th>13</th>\n",
       "      <td>5721</td>\n",
       "      <td>GENE</td>\n",
       "      <td>C</td>\n",
       "      <td>SCHULTER</td>\n",
       "      <td>4326 N BELL AVE</td>\n",
       "      <td>CHICAGO</td>\n",
       "      <td>IL</td>\n",
       "      <td>60618</td>\n",
       "      <td>41.960349</td>\n",
       "      <td>-87.685304</td>\n",
       "      <td>516666.00</td>\n",
       "    </tr>\n",
       "    <tr>\n",
       "      <th>14</th>\n",
       "      <td>6842</td>\n",
       "      <td>JOHN</td>\n",
       "      <td>J</td>\n",
       "      <td>GEORGE</td>\n",
       "      <td>71 SOUTH WACKER DRIVE</td>\n",
       "      <td>CHICAGO</td>\n",
       "      <td>IL</td>\n",
       "      <td>60606</td>\n",
       "      <td>41.881101</td>\n",
       "      <td>-87.636033</td>\n",
       "      <td>485500.00</td>\n",
       "    </tr>\n",
       "    <tr>\n",
       "      <th>15</th>\n",
       "      <td>3912</td>\n",
       "      <td>TERRY</td>\n",
       "      <td>M</td>\n",
       "      <td>GABINSKI</td>\n",
       "      <td>1817 W. OAKDALE</td>\n",
       "      <td>CHICAGO</td>\n",
       "      <td>IL</td>\n",
       "      <td>60657</td>\n",
       "      <td>41.939389</td>\n",
       "      <td>-87.656118</td>\n",
       "      <td>403700.00</td>\n",
       "    </tr>\n",
       "    <tr>\n",
       "      <th>16</th>\n",
       "      <td>4010</td>\n",
       "      <td>RICHARD</td>\n",
       "      <td>F.</td>\n",
       "      <td>KLAWITER</td>\n",
       "      <td>444 W. LAKE ST.</td>\n",
       "      <td>CHICAGO</td>\n",
       "      <td>IL</td>\n",
       "      <td>60606</td>\n",
       "      <td>41.885801</td>\n",
       "      <td>-87.639442</td>\n",
       "      <td>352500.00</td>\n",
       "    </tr>\n",
       "    <tr>\n",
       "      <th>17</th>\n",
       "      <td>3962</td>\n",
       "      <td>CHRIS</td>\n",
       "      <td>A</td>\n",
       "      <td>LEACH</td>\n",
       "      <td>71 SOUTH WACKER</td>\n",
       "      <td>CHICAGO</td>\n",
       "      <td>IL</td>\n",
       "      <td>60606</td>\n",
       "      <td>41.881101</td>\n",
       "      <td>-87.636033</td>\n",
       "      <td>326500.00</td>\n",
       "    </tr>\n",
       "    <tr>\n",
       "      <th>18</th>\n",
       "      <td>3890</td>\n",
       "      <td>KATHLEEN</td>\n",
       "      <td>A</td>\n",
       "      <td>DUNCAN</td>\n",
       "      <td>71 SOUTH WACKER DRIVE</td>\n",
       "      <td>CHICAGO</td>\n",
       "      <td>IL</td>\n",
       "      <td>60606</td>\n",
       "      <td>41.881101</td>\n",
       "      <td>-87.636033</td>\n",
       "      <td>323450.00</td>\n",
       "    </tr>\n",
       "    <tr>\n",
       "      <th>19</th>\n",
       "      <td>9082</td>\n",
       "      <td>JOSEPH</td>\n",
       "      <td>E</td>\n",
       "      <td>PILEWSKI</td>\n",
       "      <td>308 S. JEFFERSON ST.,</td>\n",
       "      <td>CHICAGO</td>\n",
       "      <td>IL</td>\n",
       "      <td>60661</td>\n",
       "      <td>41.877793</td>\n",
       "      <td>-87.642639</td>\n",
       "      <td>310288.79</td>\n",
       "    </tr>\n",
       "  </tbody>\n",
       "</table>\n",
       "</div>"
      ],
      "text/plain": [
       "    lobbyist_id lobbyist_first_name lobbyist_middle_initial  \\\n",
       "0          4007                JOHN                       J   \n",
       "1          4193                JOHN                       F   \n",
       "2         18181                JOHN                       R   \n",
       "3          5861              THOMAS                       S   \n",
       "4          3833                PAUL                       W   \n",
       "5          4068               DONNA                       J   \n",
       "6          5964             JEFFREY                       A   \n",
       "7          4081              VICTOR                       H   \n",
       "8          3753             LANGDON                       D   \n",
       "9          4162                MARY                       K   \n",
       "10        14081             MICHAEL                       D   \n",
       "11         3744             TIMOTHY                       J   \n",
       "12         3847              GRAHAM                       C   \n",
       "13         5721                GENE                       C   \n",
       "14         6842                JOHN                       J   \n",
       "15         3912               TERRY                       M   \n",
       "16         4010             RICHARD                      F.   \n",
       "17         3962               CHRIS                       A   \n",
       "18         3890            KATHLEEN                       A   \n",
       "19         9082              JOSEPH                       E   \n",
       "\n",
       "           lobbyist_last_name                        address_1         city  \\\n",
       "0                       KELLY             616 ENTERPRISE DRIVE    OAK BROOK   \n",
       "1                        DUNN          77 W. WACKER, STE. 4100      CHICAGO   \n",
       "2                       DALEY       328 SOUTH JEFFERSON STREET      CHICAGO   \n",
       "3                       MOORE                 111 W WASHINGTON      CHICAGO   \n",
       "4                      SHADLE               444 W. LAKE STREET      CHICAGO   \n",
       "5                        PUGH      321 N. CLARK ST., STE. 2800      CHICAGO   \n",
       "6                       GLASS            123 EAST OGDEN AVENUE     HINSDALE   \n",
       "7                       REYES       328 SOUTH JEFFERSON STREET      CHICAGO   \n",
       "8                        NEAL               20 S. CLARK STREET      CHICAGO   \n",
       "9   MINAGHAN DBA MKM SERVICES                308 CIRCLE AVENUE  FOREST PARK   \n",
       "10                     NOONAN                   321 N CLARK ST      CHICAGO   \n",
       "11                       DART  121 W. WACKER DRIVE, SUITE 1108      CHICAGO   \n",
       "12                      GRADY            111 EAST WACKER DRIVE      CHICAGO   \n",
       "13                   SCHULTER                  4326 N BELL AVE      CHICAGO   \n",
       "14                     GEORGE            71 SOUTH WACKER DRIVE      CHICAGO   \n",
       "15                   GABINSKI                  1817 W. OAKDALE      CHICAGO   \n",
       "16                   KLAWITER                  444 W. LAKE ST.      CHICAGO   \n",
       "17                      LEACH                  71 SOUTH WACKER      CHICAGO   \n",
       "18                     DUNCAN            71 SOUTH WACKER DRIVE      CHICAGO   \n",
       "19                   PILEWSKI            308 S. JEFFERSON ST.,      CHICAGO   \n",
       "\n",
       "   state    zip        lat       long  compensation_amount  \n",
       "0     IL  60523  41.847973 -87.938957           5701334.00  \n",
       "1     IL  60601  41.886511 -87.630536           4819541.00  \n",
       "2     IL  60661  41.877584 -87.642633           1614484.00  \n",
       "3     IL  60602  41.882883 -87.631404           1522152.00  \n",
       "4     IL  60606  41.885801 -87.639442           1204000.00  \n",
       "5     IL  60654  41.888128 -87.630926            883436.00  \n",
       "6     IL  60521  41.814962 -87.928654            820000.00  \n",
       "7     IL  60661  41.877584 -87.642633            813375.00  \n",
       "8     IL  60603  41.881163 -87.630983            721800.00  \n",
       "9     IL  60130  41.881149 -87.808852            688437.50  \n",
       "10    IL  60654  41.888128 -87.630926            665674.00  \n",
       "11    IL  60601  41.886806 -87.631716            585250.00  \n",
       "12    IL  60601  41.887743 -87.623602            546850.00  \n",
       "13    IL  60618  41.960349 -87.685304            516666.00  \n",
       "14    IL  60606  41.881101 -87.636033            485500.00  \n",
       "15    IL  60657  41.939389 -87.656118            403700.00  \n",
       "16    IL  60606  41.885801 -87.639442            352500.00  \n",
       "17    IL  60606  41.881101 -87.636033            326500.00  \n",
       "18    IL  60606  41.881101 -87.636033            323450.00  \n",
       "19    IL  60661  41.877793 -87.642639            310288.79  "
      ]
     },
     "execution_count": 78,
     "metadata": {},
     "output_type": "execute_result"
    }
   ],
   "source": [
    "# total compensation received by lobbyist\n",
    "most_pay_lobbyist = compensation_lobbyist_grouped[['compensation_amount']].sum().sort_values(by='compensation_amount',ascending=False)\n",
    "most_pay_lobbyist = most_pay_lobbyist.head(20)\n",
    "most_pay_lobbyist = most_pay_lobbyist.reset_index()\n",
    "most_pay_lobbyist"
   ]
  },
  {
   "cell_type": "code",
   "execution_count": 76,
   "id": "cdf2c684",
   "metadata": {},
   "outputs": [
    {
     "data": {
      "text/plain": [
       "Text(0, 0.5, 'most paid lobbyist in millions')"
      ]
     },
     "execution_count": 76,
     "metadata": {},
     "output_type": "execute_result"
    },
    {
     "data": {
      "image/png": "[encoded data removed]",
      "text/plain": [
       "<Figure size 1080x720 with 1 Axes>"
      ]
     },
     "metadata": {
      "needs_background": "light"
     },
     "output_type": "display_data"
    }
   ],
   "source": [
    "# plotting as a bar chart\n",
    "\n",
    "lobbyist_most_pay_chart = most_pay_lobbyist.plot.bar(x = 'lobbyist_id', y = 'compensation_amount',figsize = (15,10), color = 'g', fontsize = 12)\n",
    "plt.ylim(0,6000000)\n",
    "plt.ylabel(\"most paid lobbyist in millions\", fontsize =11)"
   ]
  },
  {
   "attachments": {},
   "cell_type": "markdown",
   "id": "0c6c9905",
   "metadata": {},
   "source": [
    "## Which politician is receiving the most lobbying funds? - Contribution table"
   ]
  },
  {
   "cell_type": "code",
   "execution_count": null,
   "id": "b35a5931",
   "metadata": {},
   "outputs": [],
   "source": [
    "compensation_5y_df.info()"
   ]
  },
  {
   "attachments": {},
   "cell_type": "markdown",
   "id": "6a0bf84a",
   "metadata": {},
   "source": [
    "## What companies spend the most money lobbying? - Compensation table"
   ]
  },
  {
   "cell_type": "code",
   "execution_count": null,
   "id": "5fa1df1e",
   "metadata": {},
   "outputs": [],
   "source": [
    "compensation_5y_df.head()"
   ]
  },
  {
   "cell_type": "code",
   "execution_count": null,
   "id": "186c8ed8",
   "metadata": {},
   "outputs": [],
   "source": [
    "#compensation_df['amount'] = compensation_df['compensation_amount'].astype(float)\n",
    "companies_most_funds = compensation_5y_df.groupby([\"client_name\"])[\"compensation_amount\"].sum()\n",
    "companies_high = companies_most_funds.sort_values(ascending=False)\n",
    "companies_high =companies_high.head(30)\n",
    "\n",
    "companies_high"
   ]
  },
  {
   "cell_type": "code",
   "execution_count": 77,
   "id": "ab211cf2",
   "metadata": {},
   "outputs": [
    {
     "data": {
      "text/plain": [
       "Text(0, 0.5, 'companies_high')"
      ]
     },
     "execution_count": 77,
     "metadata": {},
     "output_type": "execute_result"
    },
    {
     "data": {
      "image/png": "[encoded data removed]",
      "text/plain": [
       "<Figure size 1080x720 with 1 Axes>"
      ]
     },
     "metadata": {
      "needs_background": "light"
     },
     "output_type": "display_data"
    }
   ],
   "source": [
    "plot_pandas = companies_high.plot.bar(figsize = (15,10), color = 'g', fontsize = 12)\n",
    "plt.ylabel(\"companies_high\", fontsize =11)"
   ]
  },
  {
   "cell_type": "markdown",
   "id": "f8042621",
   "metadata": {},
   "source": [
    "# Creating JSON file for Leaflet Map of Lobbyists"
   ]
  },
  {
   "cell_type": "code",
   "execution_count": null,
   "id": "f43ab571",
   "metadata": {},
   "outputs": [],
   "source": [
    "# How many coordinates are missing from final lobbyists dataframe?\n",
    "lobbyist_final_df.count()"
   ]
  },
  {
   "cell_type": "code",
   "execution_count": null,
   "id": "91d6284a",
   "metadata": {},
   "outputs": [],
   "source": [
    "# Drop records without coordinates\n",
    "\n",
    "lobbyist_map_df = lobbyist_final_df.dropna()\n",
    "lobbyist_map_df.count()"
   ]
  },
  {
   "cell_type": "code",
   "execution_count": null,
   "id": "a3678df8",
   "metadata": {},
   "outputs": [],
   "source": [
    "# Converting final lobbyist dataframe to JavaSript array of objects for Leaflet\n",
    "\n",
    "lobbyist_df_to_json_dict = lobbyist_map_df.to_dict(orient='records')\n",
    "#lobbyist_df_to_json_dict"
   ]
  },
  {
   "cell_type": "code",
   "execution_count": null,
   "id": "0f763164",
   "metadata": {},
   "outputs": [],
   "source": [
    "# Write JavaScript array to file\n",
    "with open(\"data/lobbyists.json\", \"w\") as outfile:\n",
    "    json.dump(lobbyist_df_to_json_dict, outfile)"
   ]
  },
  {
   "cell_type": "code",
   "execution_count": null,
   "id": "32506ce8",
   "metadata": {},
   "outputs": [],
   "source": [
    "# how many coordinates are missing from final compensation dataframe?\n",
    "compensation_5y_df.count()"
   ]
  },
  {
   "cell_type": "code",
   "execution_count": null,
   "id": "97055a15",
   "metadata": {},
   "outputs": [],
   "source": [
    "# drop records without coords\n",
    "compensation_5y_df = compensation_5y_df.dropna()\n",
    "compensation_5y_df.count()"
   ]
  },
  {
   "cell_type": "code",
   "execution_count": null,
   "id": "cd935474",
   "metadata": {},
   "outputs": [],
   "source": [
    "# converting compensation DF to dict, converting date type to formatted string\n",
    "\n",
    "compensation_5y_df['period_start'] = compensation_5y_df['period_start'].dt.strftime('%m-%d-%y')\n",
    "compensation_5y_df['period_end'] = compensation_5y_df['period_end'].dt.strftime('%m-%d-%y')\n",
    "\n",
    "compensation_df_to_json_dict = compensation_5y_df.to_dict(orient='records')"
   ]
  },
  {
   "cell_type": "code",
   "execution_count": null,
   "id": "91cb0a8d",
   "metadata": {},
   "outputs": [],
   "source": [
    "compensation_df_to_json_dict"
   ]
  },
  {
   "cell_type": "code",
   "execution_count": null,
   "id": "e73ed6b4",
   "metadata": {},
   "outputs": [],
   "source": [
    "# Write DF to json\n",
    "\n",
    "with open(\"data/compensation.json\", \"w\") as outfile:\n",
    "    json.dump(compensation_df_to_json_dict, outfile)"
   ]
  },
  {
   "cell_type": "code",
   "execution_count": null,
   "id": "155feead",
   "metadata": {},
   "outputs": [],
   "source": []
  }
 ],
 "metadata": {
  "kernelspec": {
   "display_name": "Python 3 (ipykernel)",
   "language": "python",
   "name": "python3"
  },
  "language_info": {
   "codemirror_mode": {
    "name": "ipython",
    "version": 3
   },
   "file_extension": ".py",
   "mimetype": "text/x-python",
   "name": "python",
   "nbconvert_exporter": "python",
   "pygments_lexer": "ipython3",
   "version": "3.9.12"
  },
  "vscode": {
   "interpreter": {
    "hash": "ad2bdc8ecc057115af97d19610ffacc2b4e99fae6737bb82f5d7fb13d2f2c186"
   }
  }
 },
 "nbformat": 4,
 "nbformat_minor": 5
}
